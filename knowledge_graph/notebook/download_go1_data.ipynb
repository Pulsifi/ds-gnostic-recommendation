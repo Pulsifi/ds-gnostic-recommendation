{
 "cells": [
  {
   "cell_type": "code",
   "execution_count": 15,
   "metadata": {},
   "outputs": [],
   "source": [
    "import requests\n",
    "from requests.adapters import HTTPAdapter\n",
    "import tqdm\n",
    "import json"
   ]
  },
  {
   "cell_type": "code",
   "execution_count": 2,
   "metadata": {},
   "outputs": [],
   "source": [
    "# Required details to call API\n",
    "domain = \"https://api.go1.com\"\n",
    "api = \"v2/learning-objects\"\n",
    "parameters = \"limit=50&scroll=true\"\n",
    "\n",
    "url = f\"{domain}/{api}?{parameters}\"\n",
    "\n",
    "headers = {'Authorization':'eyJ0eXAiOiJKV1QiLCJhbGciOiJSUzI1NiJ9.eyJhdWQiOiJiNTJkYjdmNWM2ZmI3MjIzZWM5MWJlZmU0MzJiNjExNmM2N2U2YmFhIiwianRpIjoiY2QyY2U2M2U5MDI1MGEwNWU5ODU1MDBmNWEwNjE3MDIwNDkzNmUyMzFlYWY3NGQwYTVmMGEzNGQ5YjhlN2NiMDhjNWJjYjkwOTVlN2IzN2UiLCJpYXQiOjE2NTA5MzkzMTgsIm5iZiI6MTY1MDkzOTMxOCwiZXhwIjoxNjUwOTgyNTE3LCJzdWIiOiIxMDkyMjQ4NiIsInNjb3BlcyI6WyJhY2NvdW50LnJlYWQiLCJlbnJvbGxtZW50LnJlYWQiLCJsby5yZWFkIiwicG9ydGFsLnJlYWQiLCJ1c2VyLmxvZ2luLm1lIiwidXNlci5sb2dpbiIsInVzZXIucmVhZCIsImdyb3VwLnJlYWQiLCJ3ZWJob29rLnJlYWQiLCJ1c2VyLndyaXRlIiwiZW5yb2xsbWVudC53cml0ZSIsIndlYmhvb2sud3JpdGUiLCJncm91cC53cml0ZSIsImxvLndyaXRlIiwicG9ydGFsLndyaXRlIl19.BmLbZD_eyrG8PMl5eDaBrXskKSiymNDpjQIPgumT_ULqg2Gvf6eBZwS3BjKOfjOolkYM0PkGiMinou534hvxRslJdGfreySRUdUMqQc_NKhOtbg21katUskMRgf0Yh03dQKPWrFatnsI4wPTXUC8UfIjN10u0um3zrlw4LDanN_ejbTSAYn-DlZ3nf-glAUTLdeYcuMG4U002TDTSgcyXqa9exuJ1zttNVqZYkRWIM_ZtlHfu4Hf2Y67XLUKpaQay12jxSneZ3EtPlhyesTgXW3X9xJd1M4C2yOccCitB1QRBC9Uc4EdWQKUaCpaUEKltpP7IYPpaaHCW9bicXZ3dQ'}"
   ]
  },
  {
   "cell_type": "code",
   "execution_count": 3,
   "metadata": {},
   "outputs": [],
   "source": [
    "s = requests.Session()\n",
    "s.mount('https://', HTTPAdapter(max_retries=5))"
   ]
  },
  {
   "cell_type": "code",
   "execution_count": 4,
   "metadata": {},
   "outputs": [
    {
     "name": "stderr",
     "output_type": "stream",
     "text": [
      "100%|██████████████████████████████████████████████████████████████▉| 80300/80301 [21:58<00:00, 60.90it/s]\n"
     ]
    }
   ],
   "source": [
    "results = []\n",
    "\n",
    "# first result\n",
    "response = s.get(url, headers=headers)\n",
    "result = response.json()\n",
    "results.append(result)\n",
    "scroll_id = result[\"_scroll_id\"]\n",
    "total = result[\"total\"]\n",
    "\n",
    "#subsequent result\n",
    "url = f\"{url}&scrollId={scroll_id}\"\n",
    "\n",
    "#loop\n",
    "bar = tqdm.tqdm(total=total-1)\n",
    "results = []\n",
    "while True:\n",
    "\n",
    "    try:\n",
    "        response = s.get(url, headers=headers,)\n",
    "        result = response.json()\n",
    "        hits = result[\"hits\"]\n",
    "    except KeyError:\n",
    "        continue\n",
    "\n",
    "    if len(hits) == 0:\n",
    "        bar.close()\n",
    "        break\n",
    "    else:\n",
    "        bar.update(50)\n",
    "        results.append(result)"
   ]
  },
  {
   "cell_type": "code",
   "execution_count": 8,
   "metadata": {},
   "outputs": [],
   "source": [
    "courses = [c for x in results for c in x[\"hits\"] ]"
   ]
  },
  {
   "cell_type": "code",
   "execution_count": 16,
   "metadata": {},
   "outputs": [],
   "source": [
    "with open(\"../data/courses.json\", \"w\") as f:\n",
    "    json.dump(courses, f)"
   ]
  },
  {
   "cell_type": "code",
   "execution_count": null,
   "metadata": {},
   "outputs": [],
   "source": []
  }
 ],
 "metadata": {
  "interpreter": {
   "hash": "48c8b30d2234327e8b5463c5f8949bedeb35d50385a961f43519055de0336e74"
  },
  "kernelspec": {
   "display_name": "Poetry",
   "language": "python",
   "name": "poetry-kernel"
  },
  "language_info": {
   "codemirror_mode": {
    "name": "ipython",
    "version": 3
   },
   "file_extension": ".py",
   "mimetype": "text/x-python",
   "name": "python",
   "nbconvert_exporter": "python",
   "pygments_lexer": "ipython3",
   "version": "3.9.9"
  },
  "widgets": {
   "application/vnd.jupyter.widget-state+json": {
    "state": {},
    "version_major": 2,
    "version_minor": 0
   }
  }
 },
 "nbformat": 4,
 "nbformat_minor": 4
}
