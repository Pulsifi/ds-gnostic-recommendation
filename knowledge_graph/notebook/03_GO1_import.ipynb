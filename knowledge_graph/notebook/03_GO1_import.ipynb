{
 "cells": [
  {
   "cell_type": "code",
   "execution_count": 1,
   "id": "cbf6a76f-3b61-47e7-a9fe-3bb73ec1d183",
   "metadata": {},
   "outputs": [
    {
     "ename": "ModuleNotFoundError",
     "evalue": "No module named 'knowledge_graph'",
     "output_type": "error",
     "traceback": [
      "\u001b[0;31m---------------------------------------------------------------------------\u001b[0m",
      "\u001b[0;31mModuleNotFoundError\u001b[0m                       Traceback (most recent call last)",
      "Input \u001b[0;32mIn [1]\u001b[0m, in \u001b[0;36m<cell line: 1>\u001b[0;34m()\u001b[0m\n\u001b[0;32m----> 1\u001b[0m \u001b[38;5;28;01mfrom\u001b[39;00m \u001b[38;5;21;01mknowledge_graph\u001b[39;00m \u001b[38;5;28;01mimport\u001b[39;00m utilities\n",
      "\u001b[0;31mModuleNotFoundError\u001b[0m: No module named 'knowledge_graph'"
     ]
    }
   ],
   "source": [
    "from knowledge_graph import utilities"
   ]
  },
  {
   "cell_type": "code",
   "execution_count": 2,
   "id": "9862febc-b32e-455b-a605-a656a7fd81e5",
   "metadata": {},
   "outputs": [],
   "source": [
    "import sys"
   ]
  },
  {
   "cell_type": "code",
   "execution_count": 3,
   "id": "78325a19-2d00-4142-ba58-1f008e6883d9",
   "metadata": {},
   "outputs": [
    {
     "data": {
      "text/plain": [
       "['/home/catethos/projects/kg/knowledge_graph/notebook',\n",
       " '/home/catethos/.pyenv/versions/3.9.9/lib/python39.zip',\n",
       " '/home/catethos/.pyenv/versions/3.9.9/lib/python3.9',\n",
       " '/home/catethos/.pyenv/versions/3.9.9/lib/python3.9/lib-dynload',\n",
       " '',\n",
       " '/home/catethos/projects/kg/.venv/lib/python3.9/site-packages']"
      ]
     },
     "execution_count": 3,
     "metadata": {},
     "output_type": "execute_result"
    }
   ],
   "source": [
    "sys.path"
   ]
  },
  {
   "cell_type": "code",
   "execution_count": null,
   "id": "d23d455a-6d7b-423b-ba20-b4ca95e53dad",
   "metadata": {},
   "outputs": [],
   "source": []
  }
 ],
 "metadata": {
  "kernelspec": {
   "display_name": "Poetry",
   "language": "python",
   "name": "poetry-kernel"
  },
  "language_info": {
   "codemirror_mode": {
    "name": "ipython",
    "version": 3
   },
   "file_extension": ".py",
   "mimetype": "text/x-python",
   "name": "python",
   "nbconvert_exporter": "python",
   "pygments_lexer": "ipython3",
   "version": "3.9.9"
  },
  "widgets": {
   "application/vnd.jupyter.widget-state+json": {
    "state": {},
    "version_major": 2,
    "version_minor": 0
   }
  }
 },
 "nbformat": 4,
 "nbformat_minor": 5
}
