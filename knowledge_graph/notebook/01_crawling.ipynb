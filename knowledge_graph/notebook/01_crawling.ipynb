{
 "cells": [
  {
   "cell_type": "code",
   "execution_count": 1,
   "metadata": {
    "tags": [
     "parameters"
    ]
   },
   "outputs": [],
   "source": [
    "url = \"https://api.go1.com/v2/learning-objects?limit=50&scroll=true\"\n",
    "token = 'eyJ0eXAiOiJKV1QiLCJhbGciOiJSUzI1NiJ9.eyJhdWQiOiJiNTJkYjdmNWM2ZmI3MjIzZWM5MWJlZmU0MzJiNjExNmM2N2U2YmFhIiwianRpIjoiNTAwZWM0NGFjZTBjYjM2ZWJiNzFhNjYyMmNkNGIxNmYzNmZjNDJlYzA5MWE3ZDA5MGRkZWY5NmNiOTM0ZGZiNGE0MzFlZmMzZWY2ZjhkNDAiLCJpYXQiOjE2NTI2OTkyOTAsIm5iZiI6MTY1MjY5OTI5MCwiZXhwIjoxNjUyNzQyNDkwLCJzdWIiOiIxMDkyMjQ4NiIsInNjb3BlcyI6WyJhY2NvdW50LnJlYWQiLCJlbnJvbGxtZW50LnJlYWQiLCJsby5yZWFkIiwicG9ydGFsLnJlYWQiLCJ1c2VyLmxvZ2luLm1lIiwidXNlci5sb2dpbiIsInVzZXIucmVhZCIsImdyb3VwLnJlYWQiLCJ3ZWJob29rLnJlYWQiLCJ1c2VyLndyaXRlIiwiZW5yb2xsbWVudC53cml0ZSIsIndlYmhvb2sud3JpdGUiLCJncm91cC53cml0ZSIsImxvLndyaXRlIiwicG9ydGFsLndyaXRlIl19.pIPhhlCSmgnNPzpdheGTguVgg5fI7B3Ie8pO1Slm0DDxmUNGLyzWLbUtR7v9ejscccaHaS5UYxMphEzW7b-bA87KlvlfnxEY71bAbuMl_2qwbPXoNxgMSZF5pIk51hU1U2ybGm4urfUhPaT6GyH9JPXhJxhewXI0Tkhq22rupmm_Wh-0sb3RwTGzNaJiThP7_PccaJyzMYwPE00GXAZnbL8SIA8ItW1ACk1H0muW3HHcEZyOcgom_vQPC44367NMMW92KWMkAd5KylGW3fuWdh_QbzErAmYb_plOEKy3nTabLDyFOZ_bkLsAXIxtpcIYMuCkk-EgOVH8E1q4BTZhhg'\n",
    "data_path = './courses.json'"
   ]
  },
  {
   "cell_type": "code",
   "execution_count": 11,
   "metadata": {},
   "outputs": [],
   "source": [
    "import requests\n",
    "import time\n",
    "from tqdm.notebook import tqdm\n",
    "import json\n",
    "\n",
    "headers = {'Authorization': token}"
   ]
  },
  {
   "cell_type": "code",
   "execution_count": 3,
   "metadata": {},
   "outputs": [],
   "source": [
    "def retry(exception=Exception, max_retry=5, wait=1):\n",
    "\n",
    "    def wrapper(func):\n",
    "        tries = 0\n",
    "        \n",
    "        def __inner__(*args, **kwargs):\n",
    "            try:\n",
    "                return func(*args, **kwargs)\n",
    "            except exception:\n",
    "                nonlocal tries\n",
    "                tries += 1\n",
    "                if tries > max_retry:\n",
    "                    raise exception\n",
    "                time.sleep(wait)\n",
    "                __inner__(*args, **kwargs)     \n",
    "        \n",
    "        return __inner__\n",
    "\n",
    "    return wrapper"
   ]
  },
  {
   "cell_type": "code",
   "execution_count": 4,
   "metadata": {},
   "outputs": [],
   "source": [
    "@retry(wait=3)\n",
    "def get(*args, **kwargs):\n",
    "    rep = requests.get(*args, **kwargs)\n",
    "    if rep.status_code != 200:\n",
    "        raise Exception\n",
    "    return rep"
   ]
  },
  {
   "cell_type": "code",
   "execution_count": 5,
   "metadata": {},
   "outputs": [],
   "source": [
    "def go1_data(url, headers):\n",
    "    resp = get(url, headers=headers).json()\n",
    "    if len(resp[\"hits\"]) == 0:\n",
    "        return\n",
    "    yield from resp[\"hits\"]\n",
    "    yield from go1_data(url, headers)"
   ]
  },
  {
   "cell_type": "code",
   "execution_count": 6,
   "metadata": {},
   "outputs": [],
   "source": [
    "resp = get(url, headers=headers).json()\n",
    "scroll_id = resp[\"_scroll_id\"]\n",
    "new_url = f\"{url}&scrollId={scroll_id}\"\n",
    "total = resp[\"total\"]"
   ]
  },
  {
   "cell_type": "code",
   "execution_count": 7,
   "metadata": {},
   "outputs": [
    {
     "data": {
      "application/vnd.jupyter.widget-view+json": {
       "model_id": "b912d1c39cfe4aed951e8647e5737cc8",
       "version_major": 2,
       "version_minor": 0
      },
      "text/plain": [
       "  0%|          | 0/80220 [00:00<?, ?it/s]"
      ]
     },
     "metadata": {},
     "output_type": "display_data"
    }
   ],
   "source": [
    "result = [x for x in resp[\"hits\"]]\n",
    "for x in tqdm(go1_data(new_url, headers),total=total):\n",
    "    result.append(x)"
   ]
  },
  {
   "cell_type": "code",
   "execution_count": 12,
   "metadata": {},
   "outputs": [],
   "source": [
    "with open(data_path, 'w') as json_file:\n",
    "    json.dump(result, json_file)"
   ]
  },
  {
   "cell_type": "code",
   "execution_count": null,
   "metadata": {},
   "outputs": [],
   "source": []
  }
 ],
 "metadata": {
  "kernelspec": {
   "display_name": "Poetry",
   "language": "python",
   "name": "poetry-kernel"
  },
  "language_info": {
   "codemirror_mode": {
    "name": "ipython",
    "version": 3
   },
   "file_extension": ".py",
   "mimetype": "text/x-python",
   "name": "python",
   "nbconvert_exporter": "python",
   "pygments_lexer": "ipython3",
   "version": "3.9.9"
  },
  "widgets": {
   "application/vnd.jupyter.widget-state+json": {
    "state": {
     "0b63d348046944fd954996ed26dc1ad5": {
      "model_module": "@jupyter-widgets/controls",
      "model_module_version": "1.5.0",
      "model_name": "HTMLModel",
      "state": {
       "layout": "IPY_MODEL_ffcf6fc2da834af695315cb74234d198",
       "style": "IPY_MODEL_faa5ae2e9c3f476bbce1f12ba0b04eec",
       "value": " 80120/80220 [32:00&lt;00:02, 41.89it/s]"
      }
     },
     "1094edfe971842ee9e4054657f65d96e": {
      "model_module": "@jupyter-widgets/base",
      "model_module_version": "1.2.0",
      "model_name": "LayoutModel",
      "state": {}
     },
     "2da6678a7b6443efb9081a47382620fd": {
      "model_module": "@jupyter-widgets/base",
      "model_module_version": "1.2.0",
      "model_name": "LayoutModel",
      "state": {}
     },
     "32ba97adfeba44bfa832f90a25ad8988": {
      "model_module": "@jupyter-widgets/controls",
      "model_module_version": "1.5.0",
      "model_name": "ProgressStyleModel",
      "state": {
       "description_width": ""
      }
     },
     "40bddb1c85cf40bf94a9ad459df4948a": {
      "model_module": "@jupyter-widgets/controls",
      "model_module_version": "1.5.0",
      "model_name": "DescriptionStyleModel",
      "state": {
       "description_width": ""
      }
     },
     "4a24338d04ce4595bfc616c33a50400e": {
      "model_module": "@jupyter-widgets/controls",
      "model_module_version": "1.5.0",
      "model_name": "FloatProgressModel",
      "state": {
       "bar_style": "danger",
       "layout": "IPY_MODEL_2da6678a7b6443efb9081a47382620fd",
       "max": 80220,
       "style": "IPY_MODEL_32ba97adfeba44bfa832f90a25ad8988",
       "value": 80120
      }
     },
     "ac713b50cb794ed994e34d941b64100b": {
      "model_module": "@jupyter-widgets/base",
      "model_module_version": "1.2.0",
      "model_name": "LayoutModel",
      "state": {}
     },
     "b912d1c39cfe4aed951e8647e5737cc8": {
      "model_module": "@jupyter-widgets/controls",
      "model_module_version": "1.5.0",
      "model_name": "HBoxModel",
      "state": {
       "children": [
        "IPY_MODEL_f7ed9d6cc87141e0aadf9d4e54bf50e8",
        "IPY_MODEL_4a24338d04ce4595bfc616c33a50400e",
        "IPY_MODEL_0b63d348046944fd954996ed26dc1ad5"
       ],
       "layout": "IPY_MODEL_ac713b50cb794ed994e34d941b64100b"
      }
     },
     "f7ed9d6cc87141e0aadf9d4e54bf50e8": {
      "model_module": "@jupyter-widgets/controls",
      "model_module_version": "1.5.0",
      "model_name": "HTMLModel",
      "state": {
       "layout": "IPY_MODEL_1094edfe971842ee9e4054657f65d96e",
       "style": "IPY_MODEL_40bddb1c85cf40bf94a9ad459df4948a",
       "value": "100%"
      }
     },
     "faa5ae2e9c3f476bbce1f12ba0b04eec": {
      "model_module": "@jupyter-widgets/controls",
      "model_module_version": "1.5.0",
      "model_name": "DescriptionStyleModel",
      "state": {
       "description_width": ""
      }
     },
     "ffcf6fc2da834af695315cb74234d198": {
      "model_module": "@jupyter-widgets/base",
      "model_module_version": "1.2.0",
      "model_name": "LayoutModel",
      "state": {}
     }
    },
    "version_major": 2,
    "version_minor": 0
   }
  }
 },
 "nbformat": 4,
 "nbformat_minor": 4
}
