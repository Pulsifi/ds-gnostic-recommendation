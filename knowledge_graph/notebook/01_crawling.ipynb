{
 "cells": [
  {
   "cell_type": "code",
   "execution_count": 1,
   "metadata": {
    "tags": [
     "parameters"
    ]
   },
   "outputs": [],
   "source": [
    "url = \"https://api.go1.com/v2/learning-objects?limit=50&scroll=true\"\n",
    "token = 'eyJ0eXAiOiJKV1QiLCJhbGciOiJSUzI1NiJ9.eyJhdWQiOiJiNTJkYjdmNWM2ZmI3MjIzZWM5MWJlZmU0MzJiNjExNmM2N2U2YmFhIiwianRpIjoiNTAwZWM0NGFjZTBjYjM2ZWJiNzFhNjYyMmNkNGIxNmYzNmZjNDJlYzA5MWE3ZDA5MGRkZWY5NmNiOTM0ZGZiNGE0MzFlZmMzZWY2ZjhkNDAiLCJpYXQiOjE2NTI2OTkyOTAsIm5iZiI6MTY1MjY5OTI5MCwiZXhwIjoxNjUyNzQyNDkwLCJzdWIiOiIxMDkyMjQ4NiIsInNjb3BlcyI6WyJhY2NvdW50LnJlYWQiLCJlbnJvbGxtZW50LnJlYWQiLCJsby5yZWFkIiwicG9ydGFsLnJlYWQiLCJ1c2VyLmxvZ2luLm1lIiwidXNlci5sb2dpbiIsInVzZXIucmVhZCIsImdyb3VwLnJlYWQiLCJ3ZWJob29rLnJlYWQiLCJ1c2VyLndyaXRlIiwiZW5yb2xsbWVudC53cml0ZSIsIndlYmhvb2sud3JpdGUiLCJncm91cC53cml0ZSIsImxvLndyaXRlIiwicG9ydGFsLndyaXRlIl19.pIPhhlCSmgnNPzpdheGTguVgg5fI7B3Ie8pO1Slm0DDxmUNGLyzWLbUtR7v9ejscccaHaS5UYxMphEzW7b-bA87KlvlfnxEY71bAbuMl_2qwbPXoNxgMSZF5pIk51hU1U2ybGm4urfUhPaT6GyH9JPXhJxhewXI0Tkhq22rupmm_Wh-0sb3RwTGzNaJiThP7_PccaJyzMYwPE00GXAZnbL8SIA8ItW1ACk1H0muW3HHcEZyOcgom_vQPC44367NMMW92KWMkAd5KylGW3fuWdh_QbzErAmYb_plOEKy3nTabLDyFOZ_bkLsAXIxtpcIYMuCkk-EgOVH8E1q4BTZhhg'\n",
    "data_path = './courses.json'"
   ]
  },
  {
   "cell_type": "code",
   "execution_count": 11,
   "metadata": {},
   "outputs": [],
   "source": [
    "import requests\n",
    "import time\n",
    "from tqdm.notebook import tqdm\n",
    "import json\n",
    "\n",
    "headers = {'Authorization': token}"
   ]
  },
  {
   "cell_type": "code",
   "execution_count": 3,
   "metadata": {},
   "outputs": [],
   "source": [
    "def retry(exception=Exception, max_retry=5, wait=1):\n",
    "\n",
    "    def wrapper(func):\n",
    "        tries = 0\n",
    "        \n",
    "        def __inner__(*args, **kwargs):\n",
    "            try:\n",
    "                return func(*args, **kwargs)\n",
    "            except exception:\n",
    "                nonlocal tries\n",
    "                tries += 1\n",
    "                if tries > max_retry:\n",
    "                    raise exception\n",
    "                time.sleep(wait)\n",
    "                __inner__(*args, **kwargs)     \n",
    "        \n",
    "        return __inner__\n",
    "\n",
    "    return wrapper"
   ]
  },
  {
   "cell_type": "code",
   "execution_count": 4,
   "metadata": {},
   "outputs": [],
   "source": [
    "@retry(wait=3)\n",
    "def get(*args, **kwargs):\n",
    "    rep = requests.get(*args, **kwargs)\n",
    "    if rep.status_code != 200:\n",
    "        raise Exception\n",
    "    return rep"
   ]
  },
  {
   "cell_type": "code",
   "execution_count": 5,
   "metadata": {},
   "outputs": [],
   "source": [
    "def go1_data(url, headers):\n",
    "    resp = get(url, headers=headers).json()\n",
    "    if len(resp[\"hits\"]) == 0:\n",
    "        return\n",
    "    yield from resp[\"hits\"]\n",
    "    yield from go1_data(url, headers)"
   ]
  },
  {
   "cell_type": "code",
   "execution_count": 6,
   "metadata": {},
   "outputs": [],
   "source": [
    "resp = get(url, headers=headers).json()\n",
    "scroll_id = resp[\"_scroll_id\"]\n",
    "new_url = f\"{url}&scrollId={scroll_id}\"\n",
    "total = resp[\"total\"]"
   ]
  },
  {
   "cell_type": "code",
   "execution_count": 7,
   "metadata": {},
   "outputs": [
    {
     "data": {
      "application/vnd.jupyter.widget-view+json": {
       "model_id": "b912d1c39cfe4aed951e8647e5737cc8",
       "version_major": 2,
       "version_minor": 0
      },
      "text/plain": [
       "  0%|          | 0/80220 [00:00<?, ?it/s]"
      ]
     },
     "metadata": {},
     "output_type": "display_data"
    }
   ],
   "source": [
    "result = [x for x in resp[\"hits\"]]\n",
    "for x in tqdm(go1_data(new_url, headers),total=total):\n",
    "    result.append(x)"
   ]
  },
  {
   "cell_type": "code",
   "execution_count": 12,
   "metadata": {},
   "outputs": [],
   "source": [
    "with open(data_path, 'w') as json_file:\n",
    "    json.dump(result, json_file)"
   ]
  },
  {
   "cell_type": "code",
   "execution_count": null,
   "metadata": {},
   "outputs": [],
   "source": []
  }
 ],
 "metadata": {
  "kernelspec": {
   "display_name": "Poetry",
   "language": "python",
   "name": "poetry-kernel"
  },
  "language_info": {
   "codemirror_mode": {
    "name": "ipython",
    "version": 3
   },
   "file_extension": ".py",
   "mimetype": "text/x-python",
   "name": "python",
   "nbconvert_exporter": "python",
   "pygments_lexer": "ipython3",
   "version": "3.9.9"
  },
  "widgets": {
   "application/vnd.jupyter.widget-state+json": {
    "state": {},
    "version_major": 2,
    "version_minor": 0
   }
  }
 },
 "nbformat": 4,
 "nbformat_minor": 4
}
