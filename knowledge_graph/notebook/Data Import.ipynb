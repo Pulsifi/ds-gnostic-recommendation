{
 "cells": [
  {
   "cell_type": "markdown",
   "metadata": {
    "tags": []
   },
   "source": [
    "# Setup"
   ]
  },
  {
   "cell_type": "code",
   "execution_count": 9,
   "metadata": {},
   "outputs": [],
   "source": [
    "from py2neo import Graph\n",
    "from py2neo.bulk import create_nodes, create_relationships\n",
    "import pandas as pd\n",
    "import numpy as np\n",
    "import os\n",
    "import json\n",
    "from collections import Counter\n",
    "from itertools import islice\n",
    "import spacy\n",
    "import pytextrank\n",
    "import time\n",
    "from pandas import json_normalize\n",
    "from collections import Counter\n",
    "#from top2vec import Top2Vec\n",
    "import re\n",
    "from itertools import cycle\n",
    "from more_itertools import collapse, pairwise"
   ]
  },
  {
   "cell_type": "code",
   "execution_count": null,
   "metadata": {},
   "outputs": [],
   "source": [
    "user = os.getenv('NEO4J_USER')\n",
    "password = os.getenv('NEO4J_PASSWORD')\n",
    "uri = 'bolt://localhost:7687'\n",
    "\n",
    "graph = Graph(uri, auth=(user, password))"
   ]
  },
  {
   "cell_type": "markdown",
   "metadata": {},
   "source": [
    "## Utilities Functions"
   ]
  },
  {
   "cell_type": "code",
   "execution_count": null,
   "metadata": {},
   "outputs": [],
   "source": [
    "def reset(graph):\n",
    "    graph.run(\"MATCH (n) DETACH DELETE n\")"
   ]
  },
  {
   "cell_type": "code",
   "execution_count": null,
   "metadata": {},
   "outputs": [],
   "source": [
    "def create_index(graph, name, label, attrs, fulltext=False, debug=False):\n",
    "    \n",
    "    if fulltext:\n",
    "        cypher = f\"\"\"\n",
    "        CREATE FULLTEXT INDEX {name} IF NOT EXISTS\n",
    "        FOR (n:{label}) ON EACH\n",
    "        [{\",\".join([f'n.{x}' for x in attrs])}]\n",
    "        \"\"\"\n",
    "    else:\n",
    "        cypher = f\"\"\"\n",
    "        CREATE INDEX {name} IF NOT EXISTS\n",
    "        FOR (n:{label}) ON\n",
    "        ({\",\".join([f'n.{x}' for x in attrs])})\n",
    "        \"\"\"\n",
    "    if debug:\n",
    "        print(cypher)\n",
    "    \n",
    "    graph.run(cypher)    "
   ]
  },
  {
   "cell_type": "code",
   "execution_count": null,
   "metadata": {},
   "outputs": [],
   "source": [
    "def periodic_input(graph, data, labels, batch_size=1000):\n",
    "    stream = iter(data)\n",
    "    while True:\n",
    "        batch = list(islice(stream, batch_size))\n",
    "        if len(batch) > 0:\n",
    "            create_nodes(graph.auto(), batch, labels=labels)\n",
    "        else:\n",
    "            break"
   ]
  },
  {
   "cell_type": "markdown",
   "metadata": {
    "tags": []
   },
   "source": [
    "# Data Import"
   ]
  },
  {
   "cell_type": "code",
   "execution_count": null,
   "metadata": {},
   "outputs": [],
   "source": [
    "reset(graph)"
   ]
  },
  {
   "cell_type": "markdown",
   "metadata": {
    "tags": []
   },
   "source": [
    "## Occupations"
   ]
  },
  {
   "cell_type": "code",
   "execution_count": null,
   "metadata": {},
   "outputs": [],
   "source": [
    "esco_occupations = pd.read_csv(\"../data/ESCO/occupations_en.csv\")\n",
    "data =  [{\n",
    "    \"preferred_label\":x.preferredLabel,\n",
    "    \"alt_label\":x.altLabels,\n",
    "    \"uri\":x.conceptUri,\n",
    "    \"isco_code\":x.iscoGroup,\n",
    "    \"description\":x.description\n",
    "    } \n",
    "    for x in esco_occupations.itertuples()]"
   ]
  },
  {
   "cell_type": "code",
   "execution_count": null,
   "metadata": {},
   "outputs": [],
   "source": [
    "periodic_input(graph, data, {\"Occupation\", \"ONET\"})\n",
    "create_index(graph,\"Occupation\",\"Occupation\",[\"uri\"])\n",
    "create_index(graph,\"OccupationFT\",\"Occupation\",[\"preferred_label\", \"alt_label\"], fulltext=True)"
   ]
  },
  {
   "cell_type": "markdown",
   "metadata": {
    "tags": []
   },
   "source": [
    "## ISCO GROUP"
   ]
  },
  {
   "cell_type": "code",
   "execution_count": null,
   "metadata": {},
   "outputs": [],
   "source": [
    "isco_group = pd.read_csv(\"../data/ESCO/ISCOGroups_en.csv\")\n",
    "data =  [{\n",
    "    \"preferred_label\":x.preferredLabel,\n",
    "    \"alt_label\":x.altLabels,\n",
    "    \"uri\":x.conceptUri,\n",
    "    \"description\":x.description\n",
    "    } for x in isco_group.itertuples()]"
   ]
  },
  {
   "cell_type": "code",
   "execution_count": null,
   "metadata": {},
   "outputs": [],
   "source": [
    "periodic_input(graph, data, {\"ISCO\",\"Occupation\"})\n",
    "create_index(graph,\"ISCO\",\"ISCO\",[\"uri\"])"
   ]
  },
  {
   "cell_type": "markdown",
   "metadata": {
    "tags": []
   },
   "source": [
    "## Occupation-Occupation Relation"
   ]
  },
  {
   "cell_type": "code",
   "execution_count": null,
   "metadata": {},
   "outputs": [],
   "source": [
    "occupation_relation = pd.read_csv(\"../data/ESCO/broaderRelationsOccPillar.csv\")\n",
    "data =  [((x.broaderUri), {}, (x.conceptUri),)\n",
    "    for x in occupation_relation.itertuples()]"
   ]
  },
  {
   "cell_type": "code",
   "execution_count": null,
   "metadata": {},
   "outputs": [],
   "source": [
    "create_relationships(graph.auto(), data, \"BROADER_THEN\", \\\n",
    "    start_node_key=((\"Occupation\"), \"uri\"), end_node_key=((\"Occupation\"), \"uri\"))"
   ]
  },
  {
   "cell_type": "markdown",
   "metadata": {
    "tags": []
   },
   "source": [
    "## Skills"
   ]
  },
  {
   "cell_type": "code",
   "execution_count": null,
   "metadata": {},
   "outputs": [],
   "source": [
    "esco_skill = pd.read_csv(\"../data/ESCO/skills_en.csv\")\n",
    "data =  [{\n",
    "    \"preferred_label\":x.preferredLabel,\n",
    "    \"alt_label\":x.altLabels,\n",
    "    \"uri\":x.conceptUri,\n",
    "    \"description\":x.description} \n",
    "    for x in esco_skill.itertuples()]"
   ]
  },
  {
   "cell_type": "code",
   "execution_count": null,
   "metadata": {},
   "outputs": [],
   "source": [
    "periodic_input(graph, data, {\"Skill\"})\n",
    "create_index(graph,\"Skill\",\"Skill\",[\"uri\"])"
   ]
  },
  {
   "cell_type": "code",
   "execution_count": null,
   "metadata": {},
   "outputs": [],
   "source": [
    "create_index(graph,\"SkillFT\",\"Skill\",[\"preferred_label\", \"alt_label\"], fulltext=True)"
   ]
  },
  {
   "cell_type": "markdown",
   "metadata": {
    "tags": []
   },
   "source": [
    "## Skill Group"
   ]
  },
  {
   "cell_type": "code",
   "execution_count": null,
   "metadata": {},
   "outputs": [],
   "source": [
    "skill_group = pd.read_csv(\"../data/ESCO/skillGroups_en.csv\")\n",
    "data =  [{\n",
    "    \"preferred_label\":x.preferredLabel,\n",
    "    \"alt_label\":x.altLabels,\n",
    "    \"uri\":x.conceptUri,\n",
    "    \"description\":x.description} \n",
    "    for x in skill_group.itertuples()]"
   ]
  },
  {
   "cell_type": "code",
   "execution_count": null,
   "metadata": {},
   "outputs": [],
   "source": [
    "periodic_input(graph, data, {\"Skill_Group\", \"Skill\"})\n",
    "create_index(graph,\"Skill\",\"Skill_Group\",[\"uri\"])\n",
    "create_index(graph,\"SkillGroupFT\",\"Skill_Group\",[\"preferred_label\", \"alt_label\"], fulltext=True)"
   ]
  },
  {
   "cell_type": "markdown",
   "metadata": {
    "tags": []
   },
   "source": [
    "## Skill-Skill Relation"
   ]
  },
  {
   "cell_type": "code",
   "execution_count": null,
   "metadata": {},
   "outputs": [],
   "source": [
    "skill_relation = pd.read_csv(\"../data/ESCO/broaderRelationsSkillPillar.csv\")\n",
    "\n",
    "data =  [((x.broaderUri), {}, (x.conceptUri))\n",
    "    for x in skill_relation.itertuples()]"
   ]
  },
  {
   "cell_type": "code",
   "execution_count": null,
   "metadata": {},
   "outputs": [],
   "source": [
    "create_relationships(graph.auto(), data, \"BROADER_THEN\", \\\n",
    "    start_node_key=((\"Skill\"), \"uri\"), end_node_key=((\"Skill\"), \"uri\"))"
   ]
  },
  {
   "cell_type": "markdown",
   "metadata": {
    "tags": []
   },
   "source": [
    "## Occupation-Skill Relation"
   ]
  },
  {
   "cell_type": "code",
   "execution_count": null,
   "metadata": {},
   "outputs": [],
   "source": [
    "occ_skill_relation = pd.read_csv(\"../data/ESCO/occupationSkillRelations.csv\")\n",
    "\n",
    "data =  [(x.occupationUri, {\"type\":x.skillType}, x.skillUri)\n",
    "    for x in occ_skill_relation.itertuples()]"
   ]
  },
  {
   "cell_type": "code",
   "execution_count": null,
   "metadata": {},
   "outputs": [],
   "source": [
    "create_relationships(graph.auto(), data, \"REQUIRE\", \\\n",
    "    start_node_key=((\"Occupation\"), \"uri\"), end_node_key=((\"Skill\"), \"uri\"))"
   ]
  },
  {
   "cell_type": "markdown",
   "metadata": {
    "tags": []
   },
   "source": [
    "## GO1 Courses"
   ]
  },
  {
   "cell_type": "code",
   "execution_count": 4,
   "metadata": {},
   "outputs": [],
   "source": [
    "def remove_html_tags(text):\n",
    "    \"\"\"Remove html tags and new line from a string\"\"\"\n",
    "    clean = re.compile('<.*?>|\\n')\n",
    "    return re.sub(clean, ' ', text)\n",
    "\n",
    "def normalize(xs):\n",
    "    return [\" \".join(x.lower().split()) for x in xs]\n",
    "\n",
    "\n",
    "def remove_special_cha(text):\n",
    "    \"\"\"Remove special characters from a string\"\"\"\n",
    "    clean = re.compile('[|^&+\\-%*/=>():\"#$“”]')\n",
    "    return re.sub(clean, ' ', text)\n",
    "\n",
    "\n",
    "def list_to_str(text, col):\n",
    "    y = []\n",
    "    for elem in text[col]:\n",
    "        y.append(\", \".join(elem))\n",
    "    return y\n",
    "\n",
    "def language_preprocess(text):\n",
    "    text = re.sub(\"English\", \"en\", text)\n",
    "    text = re.sub(\"German\", \"de\", text)\n",
    "    return text"
   ]
  },
  {
   "cell_type": "code",
   "execution_count": 6,
   "metadata": {},
   "outputs": [],
   "source": [
    "with open(\"../data/courses.json\", \"r\") as f:\n",
    "    courses = json.load(f)\n",
    "\n",
    "for c in courses:\n",
    "    c[\"tags\"] = normalize(c[\"tags\"])\n",
    "    c[\"topics\"] = normalize([y[\"value\"] for y in c.get(\"attributes\", {}).get(\"topics\", [])])\n",
    "    c[\"title\"] = remove_special_cha(c[\"title\"])\n",
    "    c[\"description\"] = remove_special_cha(remove_html_tags(c[\"description\"]))\n",
    "    c['language'] = language_preprocess(c['language'])"
   ]
  },
  {
   "cell_type": "code",
   "execution_count": null,
   "metadata": {},
   "outputs": [],
   "source": [
    "data =  [{\n",
    "    \"preferred_label\":x[\"title\"],\n",
    "    \"uri\":str(x[\"id\"]),\n",
    "    \"language\":x['language'],\n",
    "    \"description\":x[\"description\"]} \n",
    "    for x in courses]"
   ]
  },
  {
   "cell_type": "code",
   "execution_count": null,
   "metadata": {},
   "outputs": [],
   "source": [
    "periodic_input(graph, data, {\"Course\"})\n",
    "create_index(graph,\"Course\",\"Course\",[\"uri\"])\n",
    "create_index(graph,\"CourseFT\",\"Course\",[\"preferred_label\"], fulltext=True)"
   ]
  },
  {
   "cell_type": "markdown",
   "metadata": {
    "tags": []
   },
   "source": [
    "## ESCO Topic"
   ]
  },
  {
   "cell_type": "code",
   "execution_count": null,
   "metadata": {},
   "outputs": [],
   "source": [
    "model = Top2Vec.load(\"Models/universal-sentence-encoder_dlearn\")\n",
    "\n",
    "data =  [{\n",
    "    \"preferred_label\":x} \n",
    "    for x in ['topic '+str(x) for x in model.get_topics()[2]]\n",
    "]"
   ]
  },
  {
   "cell_type": "code",
   "execution_count": null,
   "metadata": {},
   "outputs": [],
   "source": [
    "periodic_input(graph, data, {\"ESCO_Topic\"})\n",
    "create_index(graph,\"ESCO_Topic\",\"ESCO_Topic\",[\"preferred_label\"])"
   ]
  },
  {
   "cell_type": "markdown",
   "metadata": {
    "tags": []
   },
   "source": [
    "## Skill - ESCO Topic Relation"
   ]
  },
  {
   "cell_type": "code",
   "execution_count": null,
   "metadata": {},
   "outputs": [],
   "source": [
    "data = [('topic ' + str(index), {}, esco_skill['conceptUri'].iloc[x]) \n",
    "        for index, size in enumerate(model.get_topic_sizes()[0]) \n",
    "        for x in model.search_documents_by_topic(topic_num=index, num_docs=size)[2]]"
   ]
  },
  {
   "cell_type": "code",
   "execution_count": null,
   "metadata": {},
   "outputs": [],
   "source": [
    "create_relationships(graph.auto(), data, \"BELONG_TO\", \\\n",
    "    start_node_key=((\"Skill\"), \"uri\"), end_node_key=((\"ESCO_Topic\"), \"preferred_label\"))   "
   ]
  },
  {
   "cell_type": "markdown",
   "metadata": {
    "tags": []
   },
   "source": [
    "## GO1 Courses - ESCO Topic Relation"
   ]
  },
  {
   "cell_type": "code",
   "execution_count": 11,
   "metadata": {},
   "outputs": [],
   "source": [
    "df = json_normalize(courses) \n",
    "\n",
    "df['topics'] = list_to_str(df, 'topics')\n",
    "df['tags'] = list_to_str(df, 'tags')\n",
    "\n",
    "df['course_data'] = df[['title', 'topics', 'tags', 'description']].agg(' '.join, axis=1)"
   ]
  },
  {
   "cell_type": "code",
   "execution_count": null,
   "metadata": {},
   "outputs": [],
   "source": [
    "# this is even better, hahaha, just 6mins\n",
    "%%time\n",
    "data = [t for index, text in enumerate(df['course_data'])\n",
    "        for t in zip(cycle([str(df['id'].iloc[index])]), cycle([{}]) , ['topic ' + str(x) for x in model.query_topics(text, num_topics=3)[3]])]"
   ]
  },
  {
   "cell_type": "code",
   "execution_count": null,
   "metadata": {},
   "outputs": [],
   "source": [
    "create_relationships(graph.auto(), data, \"BELONG_TO\", \\\n",
    "    start_node_key=((\"Course\"), \"uri\"), end_node_key=((\"ESCO_Topic\"), \"preferred_label\"))"
   ]
  },
  {
   "cell_type": "markdown",
   "metadata": {
    "tags": []
   },
   "source": [
    "## GO1 Topics"
   ]
  },
  {
   "cell_type": "code",
   "execution_count": null,
   "metadata": {},
   "outputs": [],
   "source": [
    "topics = set(list(collapse([[y[\"value\"] for y in x.get(\"attributes\", {}).get(\"topics\", [])] for x in courses])))\n",
    "data = [{\"preferred_label\":x} for x in topics]"
   ]
  },
  {
   "cell_type": "code",
   "execution_count": null,
   "metadata": {},
   "outputs": [],
   "source": [
    "periodic_input(graph, data, {\"GO1_Topic\"})\n",
    "create_index(graph,\"GO1_Topic\",\"GO1_Topic\",[\"preferred_label\"])"
   ]
  },
  {
   "cell_type": "markdown",
   "metadata": {},
   "source": [
    "## GO1 Topics - GO1 Topics Relation"
   ]
  },
  {
   "cell_type": "code",
   "execution_count": null,
   "metadata": {
    "tags": []
   },
   "outputs": [],
   "source": [
    "topics_relation = list(set([tuple([y[\"value\"] for y in x.get(\"attributes\", {}).get(\"topics\", [])]) for x in courses]))\n",
    "\n",
    "data = [(x[0],{},x[1]) for x in list(set([(w,y) for x in topics_relation for w,y in pairwise(x)]))]"
   ]
  },
  {
   "cell_type": "code",
   "execution_count": null,
   "metadata": {},
   "outputs": [],
   "source": [
    "create_relationships(graph.auto(), data, \"BROADER_THEN\", \\\n",
    "    start_node_key=((\"GO1_Topic\"), \"preferred_label\"), end_node_key=((\"GO1_Topic\"), \"preferred_label\"))"
   ]
  },
  {
   "cell_type": "markdown",
   "metadata": {},
   "source": [
    "## GO1 Courses - GO1 Topics Relation"
   ]
  },
  {
   "cell_type": "code",
   "execution_count": 12,
   "metadata": {
    "tags": []
   },
   "outputs": [],
   "source": [
    "topics = [[y[\"value\"] for y in x.get(\"attributes\", {}).get(\"topics\", [])] for x in courses]\n",
    "data = list(collapse([list(zip(cycle([str(id)]), cycle([{}]), topics[index])) for index, id in enumerate(df['id'])],base_type=tuple))"
   ]
  },
  {
   "cell_type": "code",
   "execution_count": null,
   "metadata": {},
   "outputs": [],
   "source": []
  },
  {
   "cell_type": "code",
   "execution_count": null,
   "metadata": {},
   "outputs": [],
   "source": []
  },
  {
   "cell_type": "code",
   "execution_count": null,
   "metadata": {},
   "outputs": [],
   "source": [
    "create_relationships(graph.auto(), data, \"HAS\", \\\n",
    "    start_node_key=((\"Course\"), \"uri\"), end_node_key=((\"GO1_Topic\"), \"preferred_label\"))"
   ]
  },
  {
   "cell_type": "markdown",
   "metadata": {},
   "source": [
    "## GO1 Tags"
   ]
  },
  {
   "cell_type": "code",
   "execution_count": null,
   "metadata": {
    "tags": []
   },
   "outputs": [],
   "source": [
    "tags = set([tag for c in courses for tag in c['tags']])\n",
    "data = [{\"preferred_label\":x} for x in tags]"
   ]
  },
  {
   "cell_type": "code",
   "execution_count": null,
   "metadata": {},
   "outputs": [],
   "source": [
    "periodic_input(graph, data, {\"Tag\"})\n",
    "create_index(graph,\"Tag\",\"Tag\",[\"preferred_label\"])"
   ]
  },
  {
   "cell_type": "markdown",
   "metadata": {},
   "source": [
    "## GO1 Courses - GO1 Tags Relation"
   ]
  },
  {
   "cell_type": "code",
   "execution_count": null,
   "metadata": {},
   "outputs": [],
   "source": [
    "data = [(x[\"id\"], {}, tag) for x in courses for tag in x[\"tags\"]]"
   ]
  },
  {
   "cell_type": "code",
   "execution_count": null,
   "metadata": {},
   "outputs": [],
   "source": [
    "create_relationships(graph.auto(), data, \"TAG\", \\\n",
    "    start_node_key=((\"Course\"), \"uri\"), end_node_key=((\"Tag\"), \"preferred_label\"))"
   ]
  },
  {
   "cell_type": "markdown",
   "metadata": {
    "tags": []
   },
   "source": [
    "## Additional"
   ]
  },
  {
   "cell_type": "code",
   "execution_count": null,
   "metadata": {
    "tags": []
   },
   "outputs": [],
   "source": [
    "esco_skill"
   ]
  },
  {
   "cell_type": "code",
   "execution_count": null,
   "metadata": {},
   "outputs": [],
   "source": [
    "PhraseMatcher()"
   ]
  },
  {
   "cell_type": "code",
   "execution_count": null,
   "metadata": {},
   "outputs": [],
   "source": [
    "import spacy\n",
    "from spacy.matcher import PhraseMatcher\n",
    "\n",
    "nlp = spacy.load(\"en_core_web_sm\")\n",
    "matcher = PhraseMatcher(nlp.vocab, attr=\"LOWER\")\n",
    "terms = [\"Barack Obama\", \"Angela Merkel\", \"Washington, D.C.\"]\n",
    "# Only run nlp.make_doc to speed things up\n",
    "patterns = [nlp.make_doc(text) for text in terms]\n",
    "matcher.add(\"TerminologyList\", patterns)\n",
    "\n",
    "doc = nlp(\"German Chancellor angela Merkel and US President Barack Obama \"\n",
    "          \"converse in the Oval Office inside the White House in Washington, D.C.\")\n",
    "matches = matcher(doc)\n",
    "for match_id, start, end in matches:\n",
    "    span = doc[start:end]\n",
    "    print(span.text)"
   ]
  },
  {
   "cell_type": "code",
   "execution_count": null,
   "metadata": {},
   "outputs": [],
   "source": [
    "matches"
   ]
  },
  {
   "cell_type": "markdown",
   "metadata": {},
   "source": []
  },
  {
   "cell_type": "code",
   "execution_count": null,
   "metadata": {},
   "outputs": [],
   "source": [
    "spacy.__version__"
   ]
  },
  {
   "cell_type": "code",
   "execution_count": null,
   "metadata": {},
   "outputs": [],
   "source": [
    "tags = [y for x in courses for y in x[\"tags\"]]\n",
    "unique_tags = set(tags)"
   ]
  },
  {
   "cell_type": "code",
   "execution_count": null,
   "metadata": {
    "tags": []
   },
   "outputs": [],
   "source": [
    "unique_tags"
   ]
  },
  {
   "cell_type": "code",
   "execution_count": null,
   "metadata": {},
   "outputs": [],
   "source": [
    "data = [{\"preferred_label\":x} for x in unique_tags]\n",
    "periodic_input(graph, data, {\"Tag\"})\n",
    "create_index(graph,\"Tag\",\"Tag\",[\"preferred_label\"])"
   ]
  },
  {
   "cell_type": "code",
   "execution_count": null,
   "metadata": {},
   "outputs": [],
   "source": [
    "course_tags = [(x[\"id\"], {}, tag) for x in courses for tag in x[\"tags\"]]"
   ]
  },
  {
   "cell_type": "code",
   "execution_count": null,
   "metadata": {},
   "outputs": [],
   "source": [
    "create_relationships(graph.auto(), course_tags, \"TAG\", \\\n",
    "    start_node_key=((\"Course\"), \"uri\"), end_node_key=((\"Tag\"), \"preferred_label\"))"
   ]
  },
  {
   "cell_type": "code",
   "execution_count": null,
   "metadata": {},
   "outputs": [],
   "source": [
    "nlp = spacy.load(\"en_core_web_sm\")\n",
    "nlp.add_pipe(\"textrank\")"
   ]
  },
  {
   "cell_type": "code",
   "execution_count": null,
   "metadata": {
    "tags": []
   },
   "outputs": [],
   "source": [
    "txt=\"\"\"\n",
    "Course OverviewArtificial Intelligence has become an important and integral part of many industries, revolutionizing sectors such as Banking, Medicine, Transportation, etc. Recently, small businesses have been leveraging AI to scale up and be more efficient. This course is your stepping stone to mastering the power of AI for your own business.This course will teach you to approach AI from a leader’s perspective using practical, data-driven methods to identify and quantify business opportunities. You will learn to use several varieties of machine learning techniques, improving the capability of your business to deliver better and faster solutions to its customers and clients.By the end of the course, you will have the skills to improve and innovate the services of any business using the power of AI.Target AudienceIf you are a manager, analyst, developer, or consultant interested in leveraging the power of AI for business, then this course is for you. No prior knowledge of AI is required.This video is part of the course  Hands-On Artificial Intelligence for Small Businesses.The aim of this video is to provide mathematical background that answers the question, “How do we know if our clustering is good?”Understand Bayes’ RuleApply Bayes’ Rule to reasoning about clustersSimplify Bayes’ Rule for the clustering case\n",
    "\"\"\"\n",
    "doc = nlp(txt)\n",
    "for phrase in doc._.phrases:\n",
    "    print(phrase.text)"
   ]
  },
  {
   "cell_type": "code",
   "execution_count": null,
   "metadata": {},
   "outputs": [],
   "source": [
    "courses[101][\"description\"]"
   ]
  },
  {
   "cell_type": "code",
   "execution_count": null,
   "metadata": {},
   "outputs": [],
   "source": [
    "[x for x in courses if x[\"id\"]==12498735]"
   ]
  },
  {
   "cell_type": "code",
   "execution_count": null,
   "metadata": {},
   "outputs": [],
   "source": [
    "Counter(tags).most_common(50)"
   ]
  },
  {
   "cell_type": "code",
   "execution_count": null,
   "metadata": {},
   "outputs": [],
   "source": []
  }
 ],
 "metadata": {
  "interpreter": {
   "hash": "b4cad14d995128e2c35643ca5f081100536a66b54b798f55f419ae4749757e8f"
  },
  "kernelspec": {
   "display_name": "Poetry",
   "language": "python",
   "name": "poetry-kernel"
  },
  "language_info": {
   "codemirror_mode": {
    "name": "ipython",
    "version": 3
   },
   "file_extension": ".py",
   "mimetype": "text/x-python",
   "name": "python",
   "nbconvert_exporter": "python",
   "pygments_lexer": "ipython3",
   "version": "3.9.9"
  },
  "widgets": {
   "application/vnd.jupyter.widget-state+json": {
    "state": {},
    "version_major": 2,
    "version_minor": 0
   }
  }
 },
 "nbformat": 4,
 "nbformat_minor": 4
}
