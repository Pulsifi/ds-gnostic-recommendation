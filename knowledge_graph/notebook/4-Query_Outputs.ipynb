{
 "cells": [
  {
   "cell_type": "markdown",
   "id": "473ade98-afb5-40aa-84d7-45d9dff45856",
   "metadata": {},
   "source": [
    "# Setup"
   ]
  },
  {
   "cell_type": "code",
   "execution_count": 1,
   "id": "7377b7e8-8da5-46ee-b4fb-e9f55765d31a",
   "metadata": {},
   "outputs": [
    {
     "name": "stderr",
     "output_type": "stream",
     "text": [
      "2022-05-18 21:48:57.697021: W tensorflow/stream_executor/platform/default/dso_loader.cc:64] Could not load dynamic library 'libcudart.so.11.0'; dlerror: libcudart.so.11.0: cannot open shared object file: No such file or directory\n",
      "2022-05-18 21:48:57.697064: I tensorflow/stream_executor/cuda/cudart_stub.cc:29] Ignore above cudart dlerror if you do not have a GPU set up on your machine.\n"
     ]
    }
   ],
   "source": [
    "from py2neo import Graph\n",
    "from py2neo.bulk import create_nodes, create_relationships\n",
    "import pandas as pd\n",
    "import numpy as np\n",
    "import os\n",
    "import json\n",
    "from collections import Counter\n",
    "from itertools import islice, cycle\n",
    "import spacy\n",
    "import pytextrank\n",
    "import time\n",
    "from pandas import json_normalize\n",
    "\n",
    "import matplotlib.pyplot as plt\n",
    "import ipywidgets as widgets\n",
    "from IPython.display import display"
   ]
  },
  {
   "cell_type": "code",
   "execution_count": 2,
   "id": "5bf6277f-b061-4edb-b658-d9c5a71bc2c3",
   "metadata": {},
   "outputs": [],
   "source": [
    "user = os.getenv('NEO4J_USER')\n",
    "password = os.getenv('NEO4J_PASSWORD')\n",
    "uri = 'bolt://localhost:7687'\n",
    "\n",
    "graph = Graph(uri, auth=(user, password))"
   ]
  },
  {
   "cell_type": "markdown",
   "id": "616e7e36-9083-4c84-bf52-3795341766d5",
   "metadata": {},
   "source": [
    "## Parameters Setup"
   ]
  },
  {
   "cell_type": "code",
   "execution_count": 3,
   "id": "5d5d2ad8-faa3-42fe-9349-86643182e022",
   "metadata": {},
   "outputs": [],
   "source": [
    "# create interest lists\n",
    "with open(\"../data/COURSE/go1contents_2604_reg.json\", \"r\") as f:\n",
    "    courses = json.load(f)\n",
    "\n",
    "topics = [[y[\"value\"] for y in x.get(\"attributes\", {}).get(\"topics\", [])] for x in courses]\n",
    "interests_list = list(pd.DataFrame(topics, columns=[\"level1\",\"level2\",\"level3\"])['level2'].value_counts().keys())\n",
    "\n",
    "# create occupations list\n",
    "esco_occupations = pd.read_csv(\"../data/ESCO/occupations_en.csv\")\n",
    "occ = list(esco_occupations['preferredLabel'].drop_duplicates().sort_values()) + ['others']"
   ]
  },
  {
   "cell_type": "code",
   "execution_count": 4,
   "id": "43932bdd-be7c-4c7d-b1c7-7fd3ddd85f6b",
   "metadata": {},
   "outputs": [],
   "source": [
    "# create widget for job\n",
    "def get_other_job_update(other_choice=''):\n",
    "    return other_choice\n",
    "\n",
    "def get_job_update(choice=''):    \n",
    "    if choice == 'others':\n",
    "        display(other_job)\n",
    "    else:\n",
    "        return choice\n",
    "\n",
    "def get_selected_job(job, other_job):\n",
    "    if not job.result:\n",
    "        return other_job.result\n",
    "    else:\n",
    "        return job.result\n",
    "    \n",
    "other_job = widgets.interactive(get_other_job_update, other_choice='')\n",
    "job = widgets.interactive(get_job_update, choice=widgets.Combobox(options=occ, disabled=False))\n",
    "\n",
    "\n",
    "# create widget for interests\n",
    "interest_w = widgets.TagsInput(allowed_tags= interests_list, allow_duplicates=False)"
   ]
  },
  {
   "cell_type": "code",
   "execution_count": 5,
   "id": "0bd450da-3957-4e6a-9c5a-be4bdbfe6bf5",
   "metadata": {},
   "outputs": [
    {
     "data": {
      "application/vnd.jupyter.widget-view+json": {
       "model_id": "ec61ecba48514a73be147f6855988990",
       "version_major": 2,
       "version_minor": 0
      },
      "text/plain": [
       "Accordion(children=(interactive(children=(Combobox(value='', description='choice', options=(' food service wor…"
      ]
     },
     "execution_count": 5,
     "metadata": {},
     "output_type": "execute_result"
    }
   ],
   "source": [
    "accordion = widgets.Accordion(children=[job,interest_w], titles=(['Please select your current job title','What are you interested in learning? (choose max 5)']))\n",
    "accordion"
   ]
  },
  {
   "cell_type": "markdown",
   "id": "d1f76477-78f5-4c3a-ba08-a4de1bec25c6",
   "metadata": {},
   "source": [
    "## Run query to get the recommended courses based on the intersection of Interest and Job"
   ]
  },
  {
   "cell_type": "code",
   "execution_count": 6,
   "id": "9359f04e-b5df-4612-915c-ef7cad16fa9a",
   "metadata": {},
   "outputs": [],
   "source": [
    "occ = get_selected_job(job,other_job)\n",
    "interests = interest_w.value"
   ]
  },
  {
   "cell_type": "code",
   "execution_count": 9,
   "id": "49a008fa-29c3-464a-b313-40e93f530367",
   "metadata": {},
   "outputs": [],
   "source": [
    "query = '''\n",
    "\n",
    "CALL db.index.fulltext.queryNodes('OccupationFT',$occ) YIELD node,score\n",
    "WITH *\n",
    "MATCH (node)-[r:REQUIRE]->(s:Skill)-[h:HAS_ESCO_TOPIC]->(e:ESCO_Topic)<-[b:BELONG_TO]-(c:Course)-[hs:HAS]->(t:GO1_Topic)\n",
    "WHERE t.preferred_label IN $interests\n",
    "WITH c.uri as course_id, c.language as language, c.duration as duration, CASE c.course_type\n",
    "  WHEN 'video'  THEN 1\n",
    "  WHEN 'interactive' THEN 2\n",
    "  WHEN 'course' THEN 3\n",
    "  WHEN 'link' THEN 4\n",
    "  WHEN 'document' THEN 5\n",
    "  WHEN 'audio' THEN 6\n",
    "  WHEN 'text' THEN 7\n",
    "  ELSE 8 END AS c_type_id,\n",
    "collect({job:node.preferred_label, job_score:score, go1_topic:t.preferred_label})[0] as result ORDER BY result.job_score DESC, result.go1_topic, c_type_id, duration\n",
    "WITH course_id\n",
    "MATCH (c:Course) WHERE c.uri IN course_id\n",
    "RETURN c\n",
    "\n",
    "'''"
   ]
  },
  {
   "cell_type": "code",
   "execution_count": 11,
   "id": "6eeb6a9c-1fc9-48d4-8271-6697580f1d69",
   "metadata": {},
   "outputs": [],
   "source": [
    "cypherResult = graph.run(query, parameters = {'occ':occ, 'interests':interests}).data()"
   ]
  },
  {
   "cell_type": "code",
   "execution_count": 12,
   "id": "da193916-2bce-4443-8204-7cf88ad19129",
   "metadata": {
    "tags": []
   },
   "outputs": [
    {
     "data": {
      "text/html": [
       "<div>\n",
       "<style scoped>\n",
       "    .dataframe tbody tr th:only-of-type {\n",
       "        vertical-align: middle;\n",
       "    }\n",
       "\n",
       "    .dataframe tbody tr th {\n",
       "        vertical-align: top;\n",
       "    }\n",
       "\n",
       "    .dataframe thead th {\n",
       "        text-align: right;\n",
       "    }\n",
       "</style>\n",
       "<table border=\"1\" class=\"dataframe\">\n",
       "  <thead>\n",
       "    <tr style=\"text-align: right;\">\n",
       "      <th></th>\n",
       "      <th>c.duration</th>\n",
       "      <th>c.preferred_label</th>\n",
       "      <th>c.course_type</th>\n",
       "      <th>c.description</th>\n",
       "      <th>c.language</th>\n",
       "      <th>c.uri</th>\n",
       "    </tr>\n",
       "  </thead>\n",
       "  <tbody>\n",
       "    <tr>\n",
       "      <th>0</th>\n",
       "      <td>1</td>\n",
       "      <td>Installing sklearn</td>\n",
       "      <td>video</td>\n",
       "      <td>Course Overview   Machine Learning is one of...</td>\n",
       "      <td>en</td>\n",
       "      <td>11763485</td>\n",
       "    </tr>\n",
       "    <tr>\n",
       "      <th>1</th>\n",
       "      <td>1</td>\n",
       "      <td>Geometrical representation</td>\n",
       "      <td>video</td>\n",
       "      <td>Course Overview   Machine Learning is one of...</td>\n",
       "      <td>en</td>\n",
       "      <td>11763495</td>\n",
       "    </tr>\n",
       "    <tr>\n",
       "      <th>2</th>\n",
       "      <td>1</td>\n",
       "      <td>Introduction to Regression Analysis</td>\n",
       "      <td>video</td>\n",
       "      <td>Course Overview   Machine Learning is one of...</td>\n",
       "      <td>en</td>\n",
       "      <td>11763486</td>\n",
       "    </tr>\n",
       "    <tr>\n",
       "      <th>3</th>\n",
       "      <td>1</td>\n",
       "      <td>Introduction to logistic regression</td>\n",
       "      <td>video</td>\n",
       "      <td>Course Overview   Machine Learning is one of...</td>\n",
       "      <td>en</td>\n",
       "      <td>11764315</td>\n",
       "    </tr>\n",
       "    <tr>\n",
       "      <th>4</th>\n",
       "      <td>1</td>\n",
       "      <td>Using Searborn for graphs</td>\n",
       "      <td>video</td>\n",
       "      <td>Course Overview   Machine Learning is one of...</td>\n",
       "      <td>en</td>\n",
       "      <td>11763397</td>\n",
       "    </tr>\n",
       "    <tr>\n",
       "      <th>...</th>\n",
       "      <td>...</td>\n",
       "      <td>...</td>\n",
       "      <td>...</td>\n",
       "      <td>...</td>\n",
       "      <td>...</td>\n",
       "      <td>...</td>\n",
       "    </tr>\n",
       "    <tr>\n",
       "      <th>17822</th>\n",
       "      <td>3</td>\n",
       "      <td>Gmail - Contact Groups in Gmail</td>\n",
       "      <td>video</td>\n",
       "      <td>Course Overview     This 2 minute video cove...</td>\n",
       "      <td>en</td>\n",
       "      <td>13406866</td>\n",
       "    </tr>\n",
       "    <tr>\n",
       "      <th>17823</th>\n",
       "      <td>20</td>\n",
       "      <td>Office 2010 - Outlook Intermediate - Working W...</td>\n",
       "      <td>interactive</td>\n",
       "      <td>Click on the New Note button in the New gr...</td>\n",
       "      <td>en</td>\n",
       "      <td>6349950</td>\n",
       "    </tr>\n",
       "    <tr>\n",
       "      <th>17824</th>\n",
       "      <td>19</td>\n",
       "      <td>Die Rollen der Gruppe - The roles of the group</td>\n",
       "      <td>interactive</td>\n",
       "      <td>Du bist unsicher und verwirrt hinsichtlich dei...</td>\n",
       "      <td>de</td>\n",
       "      <td>36172731</td>\n",
       "    </tr>\n",
       "    <tr>\n",
       "      <th>17825</th>\n",
       "      <td>21</td>\n",
       "      <td>Problem solving - Problem Solving</td>\n",
       "      <td>interactive</td>\n",
       "      <td>Zdarzyło Ci się kiedyś czuć zagrożenie ze stro...</td>\n",
       "      <td>pl</td>\n",
       "      <td>36197446</td>\n",
       "    </tr>\n",
       "    <tr>\n",
       "      <th>17826</th>\n",
       "      <td>22</td>\n",
       "      <td>Zarządzanie konfliktami - Conflict Management</td>\n",
       "      <td>interactive</td>\n",
       "      <td>„Powiedz mi, że masz coś do mnie!” „Po co ja c...</td>\n",
       "      <td>pl</td>\n",
       "      <td>36197440</td>\n",
       "    </tr>\n",
       "  </tbody>\n",
       "</table>\n",
       "<p>17827 rows × 6 columns</p>\n",
       "</div>"
      ],
      "text/plain": [
       "       c.duration                                  c.preferred_label  \\\n",
       "0               1                                 Installing sklearn   \n",
       "1               1                         Geometrical representation   \n",
       "2               1                Introduction to Regression Analysis   \n",
       "3               1                Introduction to logistic regression   \n",
       "4               1                          Using Searborn for graphs   \n",
       "...           ...                                                ...   \n",
       "17822           3                    Gmail - Contact Groups in Gmail   \n",
       "17823          20  Office 2010 - Outlook Intermediate - Working W...   \n",
       "17824          19     Die Rollen der Gruppe - The roles of the group   \n",
       "17825          21                  Problem solving - Problem Solving   \n",
       "17826          22      Zarządzanie konfliktami - Conflict Management   \n",
       "\n",
       "      c.course_type                                      c.description  \\\n",
       "0             video    Course Overview   Machine Learning is one of...   \n",
       "1             video    Course Overview   Machine Learning is one of...   \n",
       "2             video    Course Overview   Machine Learning is one of...   \n",
       "3             video    Course Overview   Machine Learning is one of...   \n",
       "4             video    Course Overview   Machine Learning is one of...   \n",
       "...             ...                                                ...   \n",
       "17822         video    Course Overview     This 2 minute video cove...   \n",
       "17823   interactive      Click on the New Note button in the New gr...   \n",
       "17824   interactive  Du bist unsicher und verwirrt hinsichtlich dei...   \n",
       "17825   interactive  Zdarzyło Ci się kiedyś czuć zagrożenie ze stro...   \n",
       "17826   interactive  „Powiedz mi, że masz coś do mnie!” „Po co ja c...   \n",
       "\n",
       "      c.language     c.uri  \n",
       "0             en  11763485  \n",
       "1             en  11763495  \n",
       "2             en  11763486  \n",
       "3             en  11764315  \n",
       "4             en  11763397  \n",
       "...          ...       ...  \n",
       "17822         en  13406866  \n",
       "17823         en   6349950  \n",
       "17824         de  36172731  \n",
       "17825         pl  36197446  \n",
       "17826         pl  36197440  \n",
       "\n",
       "[17827 rows x 6 columns]"
      ]
     },
     "execution_count": 12,
     "metadata": {},
     "output_type": "execute_result"
    }
   ],
   "source": [
    "json_normalize(cypherResult)"
   ]
  }
 ],
 "metadata": {
  "kernelspec": {
   "display_name": "Poetry",
   "language": "python",
   "name": "poetry-kernel"
  },
  "language_info": {
   "codemirror_mode": {
    "name": "ipython",
    "version": 3
   },
   "file_extension": ".py",
   "mimetype": "text/x-python",
   "name": "python",
   "nbconvert_exporter": "python",
   "pygments_lexer": "ipython3",
   "version": "3.9.12"
  }
 },
 "nbformat": 4,
 "nbformat_minor": 5
}
